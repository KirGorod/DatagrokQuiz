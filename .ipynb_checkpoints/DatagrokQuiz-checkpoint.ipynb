{
 "cells": [
  {
   "cell_type": "markdown",
   "id": "df97df44",
   "metadata": {},
   "source": [
    "# DatagrokQuiz"
   ]
  },
  {
   "cell_type": "markdown",
   "id": "6a2885c6",
   "metadata": {},
   "source": [
    "### 1. Sum up a binary tree\n",
    "\n",
    "Given a binary tree, write a function that returns the sum of the values of that tree.\n",
    "\n",
    "class Node { \n",
    "  &emsp;Node left;  // left node, or null \n",
    "  &emsp;Node right;  // right node, or null \n",
    "  &emsp;double value; \n",
    "}, \n",
    "\n",
    "**double sum(Node root)**"
   ]
  },
  {
   "cell_type": "code",
   "execution_count": 1,
   "id": "0aa6f65a",
   "metadata": {},
   "outputs": [],
   "source": [
    "class Node(object):\n",
    "    def __init__(self, value):\n",
    "        self.value = value\n",
    "        self.left = None\n",
    "        self.right = None\n",
    "\n",
    "class BinaryTree(object):\n",
    "    def __init__(self, root):\n",
    "        self.root = Node(root)\n",
    "\n",
    "    def print_tree(self, traversal_type):\n",
    "        if traversal_type == \"preorder\":\n",
    "            return self.get_tree(tree.root, \"\")[:-1]\n",
    "        else:\n",
    "            print(\"Traversal type \", + str(traversal_type) + \" is not supported\")\n",
    "            return False\n",
    "    def get_tree(self, start, traversal):\n",
    "        \"\"\"Root->Left->Rigth\"\"\"\n",
    "        if start:\n",
    "            traversal += (str(start.value) + '-')\n",
    "            traversal = self.get_tree(start.left, traversal)\n",
    "            traversal = self.get_tree(start.right, traversal)\n",
    "        return traversal\n",
    "\n",
    "    def sum_tree(self):\n",
    "        values = self.get_tree(self.root, \"\")[:-1].split(\"-\")\n",
    "        values = [int(x) for x in values]\n",
    "        return sum(values)"
   ]
  },
  {
   "cell_type": "code",
   "execution_count": 2,
   "id": "08533b77",
   "metadata": {},
   "outputs": [
    {
     "name": "stdout",
     "output_type": "stream",
     "text": [
      "1-2-4-5-3-6-7-8\n",
      "36\n"
     ]
    }
   ],
   "source": [
    "tree = BinaryTree(1)\n",
    "tree.root.left = Node(2)\n",
    "tree.root.right = Node(3)\n",
    "tree.root.left.left = Node(4)\n",
    "tree.root.left.right = Node(5)\n",
    "tree.root.right.left = Node(6)\n",
    "tree.root.right.right = Node(7)\n",
    "tree.root.right.right.right = Node(8)\n",
    "\n",
    "print(tree.print_tree(\"preorder\"))\n",
    "print(tree.sum_tree())"
   ]
  },
  {
   "cell_type": "markdown",
   "id": "5b453c5a",
   "metadata": {},
   "source": [
    "### 2. Find an area of the intersection of two rectangles\n",
    "\n",
    "class Rect { \\\n",
    "  &emsp;double x, y, width, height; \\\n",
    "  &emsp;<font color='green'>//you can use x1, y1, x2, y2 properties, too</font> \\\n",
    "}\n",
    "\n",
    "**double intersectionArea(Rect r1, Rect r2)**\n"
   ]
  },
  {
   "cell_type": "code",
   "execution_count": 3,
   "id": "178ad3f4",
   "metadata": {},
   "outputs": [],
   "source": [
    "class Rect(object):\n",
    "    def __init__(self, x1, y1, x2, y2):\n",
    "        self.x1 = x1\n",
    "        self.y1 = y1\n",
    "        self.x2 = x2\n",
    "        self.y2 = y2\n",
    "\n",
    "def aoi(r1, r2):\n",
    "    width = min(r1.x2, r2.x2) - max(r1.x1, r2.x1)\n",
    "    height = min(r1.y2, r2.y2) - max(r1.y1, r2.y1)\n",
    "    if min(width, height) > 0:\n",
    "        return width * height\n",
    "    else:\n",
    "        return 0"
   ]
  },
  {
   "cell_type": "code",
   "execution_count": 4,
   "id": "ba58b7c8",
   "metadata": {},
   "outputs": [
    {
     "name": "stdout",
     "output_type": "stream",
     "text": [
      "2\n"
     ]
    }
   ],
   "source": [
    "r1 = Rect(1,2,4,6)\n",
    "r2 = Rect(3,4,5,8)\n",
    "print(aoi(r1, r2))"
   ]
  },
  {
   "cell_type": "markdown",
   "id": "9a6da6f1",
   "metadata": {},
   "source": [
    "### 3. Palindrome check\n",
    "\n",
    "Write an **efficient** function that checks whether **any permutation** of an input string is a palindrome. Note that the function is not a palindrome check (see example 2).\n",
    "\n",
    "Examples:\n",
    "\n",
    "1.\t\"civic\" should return True\n",
    "2.\t\"ivicc\" should return True  (because “civic” is a permutation of “ivicc”)\n",
    "3.\t\"civil\" should return False\n",
    "4.\t\"livci\" should return False\n",
    "\n",
    "bool isPalindromable(string s)\n"
   ]
  },
  {
   "cell_type": "code",
   "execution_count": 5,
   "id": "c72857e6",
   "metadata": {},
   "outputs": [],
   "source": [
    "#Word is a palindrome if it has at no more than one letter that has odd count\n",
    "def Palindrome(string:str):\n",
    "    from collections import Counter\n",
    "    count = Counter(string)\n",
    "    count_odd = sum(1 for letter, cnt in count.items() if cnt % 2)\n",
    "    return count_odd <= 1"
   ]
  },
  {
   "cell_type": "code",
   "execution_count": 6,
   "id": "1bea06db",
   "metadata": {},
   "outputs": [
    {
     "name": "stdout",
     "output_type": "stream",
     "text": [
      "True\n",
      "True\n",
      "False\n",
      "False\n"
     ]
    }
   ],
   "source": [
    "print(Palindrome('civic'))\n",
    "print(Palindrome('ivicc'))\n",
    "print(Palindrome('civil'))\n",
    "print(Palindrome('livci'))"
   ]
  },
  {
   "cell_type": "markdown",
   "id": "9a46e6b1",
   "metadata": {},
   "source": [
    "### 4. K-th to last node\n",
    "\n",
    "Write a function that takes a head node of a singly linked list (containing at least k+1 elements), and returns kth element to the **last** node in the list. \n",
    "\n",
    "**kthToLastNode(LinkedListNode head, int k)**\n"
   ]
  },
  {
   "cell_type": "code",
   "execution_count": 7,
   "id": "5df55581",
   "metadata": {},
   "outputs": [],
   "source": [
    "class Node:\n",
    "    def __init__(self, data=None):\n",
    "        self.data = data\n",
    "        self.next = None\n",
    "        \n",
    "\n",
    "class LinkedList:\n",
    "    def __init__(self):\n",
    "        self.head = Node()\n",
    "\n",
    "    def append(self, data):\n",
    "        new_node = Node(data)\n",
    "        cur = self.head\n",
    "        while cur.next != None:\n",
    "            cur = cur.next\n",
    "        cur.next = new_node\n",
    "\n",
    "    def length(self):\n",
    "        cur = self.head\n",
    "        total = 0\n",
    "        while cur.next != None:\n",
    "            total += 1\n",
    "            cur = cur.next\n",
    "        return total\n",
    "\n",
    "    def display(self):\n",
    "        elems = []\n",
    "        cur_node = self.head\n",
    "        while cur_node.next != None:\n",
    "            cur_node = cur_node.next\n",
    "            elems.append(cur_node.data)\n",
    "        print(elems)\n",
    "\n",
    "    def get(self, index:int):\n",
    "        if index >= self.length():\n",
    "            print(\"ERROR: 'Get' Index out of range\")\n",
    "            return None\n",
    "        cur_index = 0\n",
    "        cur_node = self.head\n",
    "        while True:\n",
    "            cur_node = cur_node.next\n",
    "            if cur_index == index:\n",
    "                return cur_node.data\n",
    "            cur_index += 1\n",
    "\n",
    "    def erase(self, index:int):\n",
    "        if index >= self.length():\n",
    "            print(\"ERROR: 'Get' Index out of range\")\n",
    "            return\n",
    "        cur_index = 0\n",
    "        cur_node = self.head\n",
    "        while True:\n",
    "            last_node = cur_node\n",
    "            cur_node = cur_node.next\n",
    "            if cur_index == index:\n",
    "                last_node.next = cur_node.next\n",
    "                return\n",
    "            cur_index += 1\n",
    "\n",
    "    def kthToLastNode(self, n:int):\n",
    "        value = self.get(n)\n",
    "        self.erase(n)\n",
    "        self.append(value)"
   ]
  },
  {
   "cell_type": "code",
   "execution_count": 8,
   "id": "ec613450",
   "metadata": {},
   "outputs": [
    {
     "name": "stdout",
     "output_type": "stream",
     "text": [
      "[1, 4, 5, 8]\n",
      "[1, 5, 8, 4]\n"
     ]
    }
   ],
   "source": [
    "my_list = LinkedList()\n",
    "my_list.append(1)\n",
    "my_list.append(4)\n",
    "my_list.append(5)\n",
    "my_list.append(8)\n",
    "my_list.display()\n",
    "\n",
    "my_list.kthToLastNode(1)\n",
    "my_list.display()"
   ]
  },
  {
   "cell_type": "markdown",
   "id": "fc5769dc",
   "metadata": {},
   "source": [
    "### 5. Duplicates\n",
    "\n",
    "In an array of integers of length n + 1 (n > 1), every number in the range 1...n appears once except for one number which appears twice (so the array’s length is n+1). Write an efficient function that finds the number that appears twice.\n",
    "\n",
    "**Examples:**\n",
    "\n",
    "1,2,2,3 => 2 \\\n",
    "1,2,3,3 => 3 \\\n",
    "2,1,4,3,5,4 => 4 \n",
    "\n",
    "**int findDuplicate(int[] values)**"
   ]
  },
  {
   "cell_type": "code",
   "execution_count": 9,
   "id": "1088519f",
   "metadata": {},
   "outputs": [],
   "source": [
    "def FindDuplicate(l:list):\n",
    "    from collections import Counter\n",
    "    my_list = []\n",
    "    for key, value in Counter(l).items():\n",
    "        if value >= 2:\n",
    "            my_list.append(key)\n",
    "    return my_list"
   ]
  },
  {
   "cell_type": "code",
   "execution_count": 10,
   "id": "f534371c",
   "metadata": {},
   "outputs": [
    {
     "name": "stdout",
     "output_type": "stream",
     "text": [
      "[2]\n",
      "[4]\n"
     ]
    }
   ],
   "source": [
    "l = [1,2,2,3]\n",
    "print(FindDuplicate(l))\n",
    "l = [2,1,4,3,5,4]\n",
    "print(FindDuplicate(l))"
   ]
  },
  {
   "cell_type": "markdown",
   "id": "b641e47d",
   "metadata": {},
   "source": [
    "### 6. Intersection\n",
    "\n",
    "Given two arrays of numbers where each one contains unique values and is already sorted in ascending order, find the number of elements that belong to both arrays.\n",
    "\n",
    "**int intersectionCount(int[] a, int[] b)**"
   ]
  },
  {
   "cell_type": "code",
   "execution_count": 11,
   "id": "e61614b2",
   "metadata": {},
   "outputs": [],
   "source": [
    "def intersectionCount(a:list, b:list):\n",
    "    a = set(a)\n",
    "    intersection = a.intersection(b)\n",
    "    return intersection"
   ]
  },
  {
   "cell_type": "code",
   "execution_count": 12,
   "id": "c2ef90d4",
   "metadata": {},
   "outputs": [
    {
     "name": "stdout",
     "output_type": "stream",
     "text": [
      "{1, 2, 5}\n"
     ]
    }
   ],
   "source": [
    "a = [1,2,3,5]\n",
    "b = [1,2,5]\n",
    "print(intersectionCount(a, b))"
   ]
  },
  {
   "cell_type": "markdown",
   "id": "a5a0c987",
   "metadata": {},
   "source": [
    "### 7. RLE encoder\n",
    "\n",
    "Given a string of letters (without numbers), create a string encoding it by the rules where the first character is char itself, followed by a number indicating the number of letter repeats.\n",
    "\n",
    "Examples:\n",
    "\n",
    "ABBA => A1B2A1 \\\n",
    "ATTTGC => A1T3G1C1\n",
    "\n",
    "**string rle(string s)**"
   ]
  },
  {
   "cell_type": "code",
   "execution_count": 13,
   "id": "f45a5933",
   "metadata": {},
   "outputs": [],
   "source": [
    "from itertools import groupby\n",
    "def rle(s: str):\n",
    "    return \"\".join(f\"{x}{sum(1 for _ in y)}\" for x, y in groupby(s))"
   ]
  },
  {
   "cell_type": "code",
   "execution_count": 14,
   "id": "e3bc00f9",
   "metadata": {},
   "outputs": [
    {
     "name": "stdout",
     "output_type": "stream",
     "text": [
      "A1B2A1\n",
      "A1T3G1C1\n"
     ]
    }
   ],
   "source": [
    "print(rle('ABBA'))\n",
    "print(rle('ATTTGC'))"
   ]
  },
  {
   "cell_type": "markdown",
   "id": "ff441d1b",
   "metadata": {},
   "source": [
    "### 8. Search insert position\n",
    "\n",
    "Given a sorted array of distinct integers and a target value, return the index if the target is found. If not, return the index where it would be if it were inserted in order. Is it possible to write an algorithm with O(log n) runtime complexity?\n",
    "\n",
    "Examples:\n",
    "\n",
    "Input: values = [1,3,5,6], target = 7. Output: 4 \\\n",
    "Input: values = [1], target = 0. Output: 0 \n",
    "\n",
    "**int findIndex(int[] values, int target)**\n"
   ]
  },
  {
   "cell_type": "code",
   "execution_count": 15,
   "id": "9c34a0e2",
   "metadata": {},
   "outputs": [],
   "source": [
    "def findIndex(arr, target):\n",
    "    for i in range(len(arr)):\n",
    "        if arr[i] == target:\n",
    "            return i\n",
    "        elif arr[i] > target:\n",
    "            return i\n",
    "    return len(arr)"
   ]
  },
  {
   "cell_type": "code",
   "execution_count": 16,
   "id": "dbf47bba",
   "metadata": {},
   "outputs": [
    {
     "name": "stdout",
     "output_type": "stream",
     "text": [
      "2\n"
     ]
    }
   ],
   "source": [
    "arr = [1,3,5,6,7]\n",
    "print(findIndex(arr, 4))"
   ]
  },
  {
   "cell_type": "markdown",
   "id": "7a9f74f9",
   "metadata": {},
   "source": [
    "#### Q: Is it possible to write an algorithm with O(log n) runtime complexity?\n",
    "Yes it could be possible with binary search implementation."
   ]
  },
  {
   "cell_type": "markdown",
   "id": "d9be29c1",
   "metadata": {},
   "source": [
    "### 9. Complexity\n",
    "\n",
    "What is the complexity of the following functions (assuming they are implemented efficiently):\n",
    "\n",
    "max(double[] values) \\\n",
    "sort(double[] values) \\\n",
    "avg(double[] values) \\\n",
    "median(double[] values) \\\n",
    "stdev(double[] values) \\\n",
    "uniqueValuesCount(byte[] values)\n",
    " \n"
   ]
  },
  {
   "cell_type": "markdown",
   "id": "324a9801",
   "metadata": {},
   "source": [
    "<font color='green'>Answer:</font>"
   ]
  },
  {
   "cell_type": "markdown",
   "id": "f9680f60",
   "metadata": {},
   "source": [
    "max - O(n) \\\n",
    "sort - O(n log n) \\\n",
    "avg - O(n) \\\n",
    "median - O(n Log n) \\\n",
    "stdev - O(n) \\\n",
    "uniqueValuesCount - O(n)"
   ]
  },
  {
   "cell_type": "markdown",
   "id": "effe7276",
   "metadata": {},
   "source": [
    "### 10. Archiver\n",
    "\n",
    "Is it possible to develop an archiver that would compress every possible file bigger than 1GB by at least one byte? Provide your reasoning."
   ]
  },
  {
   "cell_type": "markdown",
   "id": "0dba5369",
   "metadata": {},
   "source": [
    "<font color='green'>Answer:</font>"
   ]
  },
  {
   "cell_type": "markdown",
   "id": "dc0e4fc7",
   "metadata": {},
   "source": [
    "No, we cannot create an archiver that would compress every possible file that weighs more than 1GB into a single byte. In the case of compression, loss of information is inevitable. An option in which we could compress a file of this size is to make it as redundant as possible. For example, all data in the file consists of \"zeros\" aka it should be an empty file."
   ]
  },
  {
   "cell_type": "code",
   "execution_count": null,
   "id": "b83bd27d",
   "metadata": {},
   "outputs": [],
   "source": []
  }
 ],
 "metadata": {
  "kernelspec": {
   "display_name": "Python 3",
   "language": "python",
   "name": "python3"
  },
  "language_info": {
   "codemirror_mode": {
    "name": "ipython",
    "version": 3
   },
   "file_extension": ".py",
   "mimetype": "text/x-python",
   "name": "python",
   "nbconvert_exporter": "python",
   "pygments_lexer": "ipython3",
   "version": "3.8.8"
  }
 },
 "nbformat": 4,
 "nbformat_minor": 5
}
